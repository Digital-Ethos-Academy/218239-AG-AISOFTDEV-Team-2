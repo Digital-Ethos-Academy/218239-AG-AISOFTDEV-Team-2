{
 "cells": [
  {
   "cell_type": "markdown",
   "id": "90641074",
   "metadata": {},
   "source": [
    "### Problem Statement\n"
   ]
  },
  {
   "cell_type": "code",
   "execution_count": null,
   "id": "c8e1a702",
   "metadata": {},
   "outputs": [],
   "source": [
    "import sys\n",
    "import os\n",
    "import json\n",
    "\n",
    "# Add the project's root directory to the Python path to ensure 'utils' can be imported.\n",
    "try:\n",
    "    # Assumes the notebook is in 'labs/Day_01_.../'\n",
    "    project_root = os.path.abspath(os.path.join(os.getcwd(), '..'))\n",
    "except IndexError:\n",
    "    # Fallback for different execution environments\n",
    "    project_root = os.path.abspath(os.path.join(os.getcwd()))\n",
    "\n",
    "if project_root not in sys.path:\n",
    "    sys.path.insert(0, project_root)\n",
    "\n",
    "from utils import setup_llm_client, get_completion, save_artifact, clean_llm_output\n",
    "\n",
    "# Initialize the LLM client. You can change the model here.\n",
    "# For example: setup_llm_client(model_name=\"gemini-2.5-flash\")\n",
    "client, model_name, api_provider = setup_llm_client(model_name=\"gpt-4.1\")"
   ]
  },
  {
   "cell_type": "code",
   "execution_count": null,
   "id": "35616880",
   "metadata": {},
   "outputs": [],
   "source": [
    "## Generate the PRD\n",
    "\n",
    "problem_statement = f\"\"\"\n",
    "We want to write a simple application that connects users to vacation rentals. \n",
    "The application should allow users to get a recommendation for vacation rentals based on \n",
    "their desired activities and/or attractions they wish to visit.\n",
    "\n",
    "Users will have the ability to make a reservation at their selected property.\n",
    "\n",
    "\"\"\"\n",
    "\n",
    "prd_prompt = f\"\"\"# Generate a Product Requirements Document (PRD) for the following problem statement:\n",
    "{problem_statement} \n",
    "# The PRD should include the following sections:\n",
    "1. **Problem Statement**: A clear and concise description of the problem.  \n",
    "2. **Objectives**: The goals we want to achieve with this application.\n",
    "3. **User Stories**: A list of user stories that describe the features from the user's perspective.\n",
    "4. **Acceptance Criteria**: The criteria that must be met for the user stories to be considered complete.\n",
    "5. **Out of Scope**: Features that are not included in the initial release.\n",
    "\n",
    " # We are focused on the initial MVP (Minimum Viable Product) and will include only the essential features.\n",
    "    1. User can specify a list of activities or attractions they want to visit.\n",
    "    2. User can get a recommendation for vacation rentals based on their desired activities or attractions\n",
    "    3. User can make a reservation at their selected property.\n",
    "\n",
    "# The PRD should be in Markdown format and should be well-structured.\n",
    "  The PRD should be concise and to the point, avoiding unnecessary details.\n",
    "    \n",
    "  \"\"\"  \n",
    "\n",
    "print(\"--- Generating  PRD ---\")\n",
    "\n",
    "prd_output = get_completion(prd_prompt, client, model_name, api_provider)\n",
    "prd_output_clean = clean_llm_output(prd_output, \"markdown\")\n",
    "save_artifact( prd_output_clean, \"capstone_artifacts/prd.md\",)\n",
    "\n"
   ]
  }
 ],
 "metadata": {
  "kernelspec": {
   "display_name": "Python 3",
   "language": "python",
   "name": "python3"
  },
  "language_info": {
   "codemirror_mode": {
    "name": "ipython",
    "version": 3
   },
   "file_extension": ".py",
   "mimetype": "text/x-python",
   "name": "python",
   "nbconvert_exporter": "python",
   "pygments_lexer": "ipython3",
   "version": "3.11.13"
  }
 },
 "nbformat": 4,
 "nbformat_minor": 5
}
